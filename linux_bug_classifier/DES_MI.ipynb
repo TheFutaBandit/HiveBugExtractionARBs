{
 "cells": [
  {
   "cell_type": "code",
   "execution_count": 1,
   "id": "d26beaba-96f5-4080-86e7-b1572d55310e",
   "metadata": {},
   "outputs": [
    {
     "name": "stdout",
     "output_type": "stream",
     "text": [
      "Collecting deslib\n",
      "  Downloading DESlib-0.3.7-py3-none-any.whl.metadata (13 kB)\n",
      "Requirement already satisfied: scikit-learn>=1.0.2 in ./venv/lib/python3.10/site-packages (from deslib) (1.6.1)\n",
      "Requirement already satisfied: numpy>=1.17.0 in ./venv/lib/python3.10/site-packages (from deslib) (2.2.3)\n",
      "Requirement already satisfied: scipy>=1.4.0 in ./venv/lib/python3.10/site-packages (from deslib) (1.15.2)\n",
      "Requirement already satisfied: joblib>=1.2.0 in ./venv/lib/python3.10/site-packages (from scikit-learn>=1.0.2->deslib) (1.4.2)\n",
      "Requirement already satisfied: threadpoolctl>=3.1.0 in ./venv/lib/python3.10/site-packages (from scikit-learn>=1.0.2->deslib) (3.5.0)\n",
      "Downloading DESlib-0.3.7-py3-none-any.whl (172 kB)\n",
      "Installing collected packages: deslib\n",
      "Successfully installed deslib-0.3.7\n"
     ]
    }
   ],
   "source": [
    "!pip install deslib"
   ]
  },
  {
   "cell_type": "code",
   "execution_count": 9,
   "id": "c43cbc5d-2d81-44e7-bff0-66a078ea6a4e",
   "metadata": {},
   "outputs": [],
   "source": [
    "import numpy as np\n",
    "import pandas as pd\n",
    "from collections import Counter\n",
    "from sklearn.model_selection import train_test_split\n",
    "from sklearn.preprocessing import StandardScaler\n",
    "from sklearn.ensemble import RandomForestClassifier\n",
    "from sklearn.metrics import roc_auc_score, classification_report, confusion_matrix\n",
    "import matplotlib.pyplot as plt\n",
    "import seaborn as sns\n",
    "from imblearn.over_sampling import SMOTE\n",
    "\n",
    "# Import DESlib components\n",
    "from deslib.des.des_mi import DESMI"
   ]
  },
  {
   "cell_type": "code",
   "execution_count": 3,
   "id": "ff01f04a-5c2b-42b6-a762-fb5185830ed9",
   "metadata": {},
   "outputs": [
    {
     "name": "stdout",
     "output_type": "stream",
     "text": [
      "Missing values before preprocessing: 0\n",
      "Class distribution:\n",
      "AgingRelatedBugs\n",
      "0    3380\n",
      "1      20\n",
      "Name: count, dtype: int64\n",
      "Imbalance ratio: 169.0\n"
     ]
    }
   ],
   "source": [
    "def load_and_preprocess_data():\n",
    "    # Load the datasets\n",
    "    df_net = pd.read_csv('data/linux_driver_net.csv')\n",
    "    df_scsi = pd.read_csv('data/linux_driver_scsi.csv')\n",
    "    df_ext3 = pd.read_csv('data/linux_ext3.csv')\n",
    "    df_ipv4 = pd.read_csv('data/linux_ipv4.csv')\n",
    "    \n",
    "    # Combine datasets\n",
    "    combined_df = pd.concat([df_net, df_scsi, df_ext3, df_ipv4], ignore_index=True)\n",
    "    \n",
    "    # Check for missing values\n",
    "    print(f\"Missing values before preprocessing: {combined_df.isnull().sum().sum()}\")\n",
    "    \n",
    "    # Fill missing values - use mean for numeric columns\n",
    "    numeric_columns = combined_df.select_dtypes(include=['float64', 'int64']).columns\n",
    "    combined_df[numeric_columns] = combined_df[numeric_columns].fillna(combined_df[numeric_columns].mean())\n",
    "    \n",
    "    # Drop any rows that still have missing values\n",
    "    combined_df = combined_df.dropna()\n",
    "    \n",
    "    # Check for imbalance in the target variable\n",
    "    print(\"Class distribution:\")\n",
    "    print(combined_df['AgingRelatedBugs'].value_counts())\n",
    "    print(f\"Imbalance ratio: {combined_df['AgingRelatedBugs'].value_counts()[0] / combined_df['AgingRelatedBugs'].value_counts()[1]}\")\n",
    "    \n",
    "    # Prepare features and target\n",
    "    X = combined_df.drop(['Filename', 'AgingRelatedBugs'], axis=1)\n",
    "    y = combined_df['AgingRelatedBugs']\n",
    "    \n",
    "    # Feature scaling \n",
    "    scaler = StandardScaler()\n",
    "    X_scaled = scaler.fit_transform(X)\n",
    "    \n",
    "    return X_scaled, y, X.columns\n",
    "\n",
    "# Load and preprocess the data\n",
    "X, y, feature_names = load_and_preprocess_data()"
   ]
  },
  {
   "cell_type": "code",
   "execution_count": 4,
   "id": "4812568f-3522-406f-bb16-59ba8f15520f",
   "metadata": {},
   "outputs": [
    {
     "name": "stdout",
     "output_type": "stream",
     "text": [
      "Training set class distribution: Counter({0: 1132, 1: 7})\n",
      "DSEL set class distribution: Counter({0: 1133, 1: 6})\n",
      "Test set class distribution: Counter({0: 1115, 1: 7})\n"
     ]
    }
   ],
   "source": [
    "def create_data_splits(X, y):\n",
    "    # In DESlib, we need 3 sets: training, DSEL (dynamic selection), and testing\n",
    "    # First, split into training+DSEL and testing\n",
    "    X_temp, X_test, y_temp, y_test = train_test_split(X, y, test_size=0.33, random_state=42, stratify=y)\n",
    "    \n",
    "    # Then split the training+DSEL into training and DSEL\n",
    "    X_train, X_dsel, y_train, y_dsel = train_test_split(X_temp, y_temp, test_size=0.5, random_state=42, stratify=y_temp)\n",
    "    \n",
    "    print(\"Training set class distribution:\", Counter(y_train))\n",
    "    print(\"DSEL set class distribution:\", Counter(y_dsel))\n",
    "    print(\"Test set class distribution:\", Counter(y_test))\n",
    "    \n",
    "    return X_train, y_train, X_dsel, y_dsel, X_test, y_test\n",
    "\n",
    "# Create the data splits\n",
    "X_train, y_train, X_dsel, y_dsel, X_test, y_test = create_data_splits(X, y)"
   ]
  },
  {
   "cell_type": "code",
   "execution_count": 5,
   "id": "209cad42-b231-4aa9-949e-1f28bf16d6bc",
   "metadata": {},
   "outputs": [
    {
     "name": "stdout",
     "output_type": "stream",
     "text": [
      "Creating a pool of 50 classifiers...\n"
     ]
    }
   ],
   "source": [
    "def create_classifier_pool(X_train, y_train, n_classifiers=100):\n",
    "    \"\"\"\n",
    "    Creates a pool of diverse Random Forest classifiers\n",
    "    \"\"\"\n",
    "    pool = []\n",
    "    \n",
    "    for i in range(n_classifiers):\n",
    "        # Create diverse classifiers by varying parameters\n",
    "        max_depth = np.random.randint(3, 20) if i % 3 == 0 else None\n",
    "        min_samples_split = np.random.randint(2, 20) if i % 5 == 0 else 2\n",
    "        min_samples_leaf = np.random.randint(1, 10) if i % 7 == 0 else 1\n",
    "        \n",
    "        # Create the classifier\n",
    "        clf = RandomForestClassifier(\n",
    "            n_estimators=50,  # Each base classifier is itself an ensemble\n",
    "            max_depth=max_depth,\n",
    "            min_samples_split=min_samples_split,\n",
    "            min_samples_leaf=min_samples_leaf,\n",
    "            bootstrap=bool(i % 2),\n",
    "            random_state=i\n",
    "        )\n",
    "        \n",
    "        # Train the classifier\n",
    "        clf.fit(X_train, y_train)\n",
    "        pool.append(clf)\n",
    "    \n",
    "    return pool\n",
    "\n",
    "# Create a pool of 50 classifiers (adjust this number based on your computational resources)\n",
    "pool_size = 50\n",
    "print(f\"Creating a pool of {pool_size} classifiers...\")\n",
    "classifier_pool = create_classifier_pool(X_train, y_train, n_classifiers=pool_size)"
   ]
  },
  {
   "cell_type": "code",
   "execution_count": 12,
   "id": "11c775da-7b17-43f9-ace5-866140e7b546",
   "metadata": {},
   "outputs": [],
   "source": [
    "def apply_smote_balancing(X_train, y_train):\n",
    "    \"\"\"\n",
    "    Balance the training dataset using SMOTE\n",
    "    \"\"\"\n",
    "    # Count minority samples\n",
    "    minority_count = Counter(y_train)[1]\n",
    "    \n",
    "    # Choose appropriate k for SMOTE based on minority class size\n",
    "    k_neighbors = min(5, minority_count - 1)  # Must be less than minority count\n",
    "    \n",
    "    if k_neighbors > 0:\n",
    "        # Apply SMOTE with adjusted k_neighbors\n",
    "        smote = SMOTE(random_state=42, k_neighbors=k_neighbors)\n",
    "        X_train_balanced, y_train_balanced = smote.fit_resample(X_train, y_train)\n",
    "        print(\"Applied SMOTE balancing\")\n",
    "        print(\"Original training set class distribution:\", Counter(y_train))\n",
    "        print(\"Balanced training set class distribution:\", Counter(y_train_balanced))\n",
    "        return X_train_balanced, y_train_balanced\n",
    "    else:\n",
    "        print(\"Too few minority samples for SMOTE. Using original data.\")\n",
    "        return X_train, y_train"
   ]
  },
  {
   "cell_type": "code",
   "execution_count": 13,
   "id": "622f9fb6-dd4d-42dc-970b-24ae02c311de",
   "metadata": {},
   "outputs": [],
   "source": [
    "# Modify the run_desmi function to handle both original and SMOTE-balanced data\n",
    "def run_desmi(use_smote=False, alpha=0.5):\n",
    "    \"\"\"\n",
    "    Run DES-MI with options for SMOTE balancing and adjusted alpha\n",
    "    \n",
    "    Parameters:\n",
    "    -----------\n",
    "    use_smote : bool\n",
    "        Whether to apply SMOTE balancing to the training data\n",
    "    alpha : float\n",
    "        The scaling coefficient for instance weighting (lower values reduce overflow)\n",
    "    \"\"\"\n",
    "    # Apply SMOTE if requested\n",
    "    if use_smote:\n",
    "        X_train_used, y_train_used = apply_smote_balancing(X_train, y_train)\n",
    "        print(\"Creating classifier pool with SMOTE-balanced data...\")\n",
    "        pool = create_classifier_pool(X_train_used, y_train_used, n_classifiers=pool_size)\n",
    "    else:\n",
    "        print(\"Creating classifier pool with original data...\")\n",
    "        pool = classifier_pool  # Use the global pool we created earlier\n",
    "    \n",
    "    # Create and configure the DES-MI model\n",
    "    # Using a lower alpha value to avoid overflow\n",
    "    desmi = DESMI(\n",
    "        pool_classifiers=pool,\n",
    "        k=7,\n",
    "        alpha=alpha,  # Lower alpha to avoid overflow\n",
    "        pct_accuracy=0.4,\n",
    "        voting='hard'\n",
    "    )\n",
    "    \n",
    "    # Fit the DES-MI model to the DSEL data\n",
    "    print(\"Fitting DES-MI model...\")\n",
    "    with np.errstate(over='ignore'):  # Suppress overflow warnings\n",
    "        desmi.fit(X_dsel, y_dsel)\n",
    "    \n",
    "    # Predict using DES-MI\n",
    "    print(\"Making predictions...\")\n",
    "    with np.errstate(over='ignore'):  # Suppress overflow warnings\n",
    "        y_pred = desmi.predict(X_test)\n",
    "        y_prob = desmi.predict_proba(X_test)[:, 1]\n",
    "    \n",
    "    # Calculate metrics\n",
    "    auc = roc_auc_score(y_test, y_prob)\n",
    "    \n",
    "    # Calculate Error I and Error II\n",
    "    tn, fp, fn, tp = confusion_matrix(y_test, y_pred).ravel()\n",
    "    error_I = fp / (fp + tn) * 100  # as percentage\n",
    "    error_II = fn / (tp + fn) * 100  # as percentage\n",
    "    \n",
    "    model_name = \"DES-MI + SMOTE\" if use_smote else \"DES-MI\"\n",
    "    print(f\"\\n{model_name} Results:\")\n",
    "    print(f\"AUC: {auc:.4f}\")\n",
    "    print(f\"Error I (%): {error_I:.2f}\")\n",
    "    print(f\"Error II (%): {error_II:.2f}\")\n",
    "    \n",
    "    print(\"\\nClassification Report:\")\n",
    "    print(classification_report(y_test, y_pred))\n",
    "    \n",
    "    print(\"\\nConfusion Matrix:\")\n",
    "    print(confusion_matrix(y_test, y_pred))\n",
    "    \n",
    "    # Visualize the confusion matrix\n",
    "    plt.figure(figsize=(8, 6))\n",
    "    cm = confusion_matrix(y_test, y_pred)\n",
    "    sns.heatmap(cm, annot=True, fmt='d', cmap='Blues')\n",
    "    plt.title(f'{model_name} Confusion Matrix')\n",
    "    plt.xlabel('Predicted Label')\n",
    "    plt.ylabel('True Label')\n",
    "    plt.show()\n",
    "    \n",
    "    return y_pred, y_prob, auc, error_I, error_II"
   ]
  },
  {
   "cell_type": "code",
   "execution_count": 14,
   "id": "782382d3-5d93-489b-b033-8bb79e2964a4",
   "metadata": {},
   "outputs": [
    {
     "name": "stdout",
     "output_type": "stream",
     "text": [
      "Running DES-MI with original data...\n",
      "Creating classifier pool with original data...\n",
      "Fitting DES-MI model...\n"
     ]
    },
    {
     "name": "stderr",
     "output_type": "stream",
     "text": [
      "/home/futabandit/repos/HiveBugExtractionARBs/linux_bug_classifier/venv/lib/python3.10/site-packages/sklearn/base.py:474: FutureWarning: `BaseEstimator._validate_data` is deprecated in 1.6 and will be removed in 1.7. Use `sklearn.utils.validation.validate_data` instead. This function becomes public and is part of the scikit-learn developer API.\n",
      "  warnings.warn(\n"
     ]
    },
    {
     "name": "stdout",
     "output_type": "stream",
     "text": [
      "Making predictions...\n",
      "\n",
      "DES-MI Results:\n",
      "AUC: 0.8691\n",
      "Error I (%): 0.09\n",
      "Error II (%): 100.00\n",
      "\n",
      "Classification Report:\n",
      "              precision    recall  f1-score   support\n",
      "\n",
      "           0       0.99      1.00      1.00      1115\n",
      "           1       0.00      0.00      0.00         7\n",
      "\n",
      "    accuracy                           0.99      1122\n",
      "   macro avg       0.50      0.50      0.50      1122\n",
      "weighted avg       0.99      0.99      0.99      1122\n",
      "\n",
      "\n",
      "Confusion Matrix:\n",
      "[[1114    1]\n",
      " [   7    0]]\n"
     ]
    },
    {
     "data": {
      "image/png": "[encoded data removed]",
      "text/plain": [
       "<Figure size 800x600 with 2 Axes>"
      ]
     },
     "metadata": {},
     "output_type": "display_data"
    },
    {
     "name": "stdout",
     "output_type": "stream",
     "text": [
      "\n",
      "Running DES-MI with SMOTE-balanced data...\n",
      "Applied SMOTE balancing\n",
      "Original training set class distribution: Counter({0: 1132, 1: 7})\n",
      "Balanced training set class distribution: Counter({1: 1132, 0: 1132})\n",
      "Creating classifier pool with SMOTE-balanced data...\n",
      "Fitting DES-MI model...\n"
     ]
    },
    {
     "name": "stderr",
     "output_type": "stream",
     "text": [
      "/home/futabandit/repos/HiveBugExtractionARBs/linux_bug_classifier/venv/lib/python3.10/site-packages/sklearn/base.py:474: FutureWarning: `BaseEstimator._validate_data` is deprecated in 1.6 and will be removed in 1.7. Use `sklearn.utils.validation.validate_data` instead. This function becomes public and is part of the scikit-learn developer API.\n",
      "  warnings.warn(\n"
     ]
    },
    {
     "name": "stdout",
     "output_type": "stream",
     "text": [
      "Making predictions...\n",
      "\n",
      "DES-MI + SMOTE Results:\n",
      "AUC: 0.7401\n",
      "Error I (%): 0.63\n",
      "Error II (%): 85.71\n",
      "\n",
      "Classification Report:\n",
      "              precision    recall  f1-score   support\n",
      "\n",
      "           0       0.99      0.99      0.99      1115\n",
      "           1       0.12      0.14      0.13         7\n",
      "\n",
      "    accuracy                           0.99      1122\n",
      "   macro avg       0.56      0.57      0.56      1122\n",
      "weighted avg       0.99      0.99      0.99      1122\n",
      "\n",
      "\n",
      "Confusion Matrix:\n",
      "[[1108    7]\n",
      " [   6    1]]\n"
     ]
    },
    {
     "data": {
      "image/png": "[encoded data removed]",
      "text/plain": [
       "<Figure size 800x600 with 2 Axes>"
      ]
     },
     "metadata": {},
     "output_type": "display_data"
    },
    {
     "name": "stdout",
     "output_type": "stream",
     "text": [
      "\n",
      "Model Comparison:\n",
      "         Metric      DES-MI  DES-MI + SMOTE  META-DESKNN-MI\n",
      "0           AUC    0.869058        0.740102          0.9694\n",
      "1   Error I (%)    0.089686        0.627803         50.0000\n",
      "2  Error II (%)  100.000000       85.714286          5.4400\n"
     ]
    },
    {
     "data": {
      "image/png": "[encoded data removed]",
      "text/plain": [
       "<Figure size 1200x600 with 1 Axes>"
      ]
     },
     "metadata": {},
     "output_type": "display_data"
    }
   ],
   "source": [
    "# Run DES-MI with original data and reduced alpha\n",
    "print(\"Running DES-MI with original data...\")\n",
    "y_pred_original, y_prob_original, auc_original, error_I_original, error_II_original = run_desmi(use_smote=False, alpha=0.5)\n",
    "\n",
    "# Run DES-MI with SMOTE-balanced data and reduced alpha\n",
    "print(\"\\nRunning DES-MI with SMOTE-balanced data...\")\n",
    "y_pred_smote, y_prob_smote, auc_smote, error_I_smote, error_II_smote = run_desmi(use_smote=True, alpha=0.5)\n",
    "\n",
    "# Create a comparison table with all models\n",
    "results_df = pd.DataFrame({\n",
    "    'Metric': ['AUC', 'Error I (%)', 'Error II (%)'],\n",
    "    'DES-MI': [auc_original, error_I_original, error_II_original],\n",
    "    'DES-MI + SMOTE': [auc_smote, error_I_smote, error_II_smote],\n",
    "    'META-DESKNN-MI': [0.9694, 50.0, 5.44]  # Replace with your actual values\n",
    "})\n",
    "\n",
    "# Display the results\n",
    "print(\"\\nModel Comparison:\")\n",
    "print(results_df)\n",
    "\n",
    "# Create a bar chart for comparison\n",
    "plt.figure(figsize=(12, 6))\n",
    "x = np.arange(2)\n",
    "width = 0.25\n",
    "\n",
    "plt.bar(x - width, [error_I_original, error_II_original], width, label='DES-MI')\n",
    "plt.bar(x, [error_I_smote, error_II_smote], width, label='DES-MI + SMOTE')\n",
    "plt.bar(x + width, [50.0, 5.44], width, label='META-DESKNN-MI')  # Replace with your actual values\n",
    "\n",
    "plt.xticks(x, ['Error I (%)', 'Error II (%)'])\n",
    "plt.ylabel('Error Rate (%)')\n",
    "plt.title('Error Rate Comparison')\n",
    "plt.legend()\n",
    "plt.show()"
   ]
  },
  {
   "cell_type": "code",
   "execution_count": 7,
   "id": "0f2c5754-ad15-41ed-8264-ce46a0da8e70",
   "metadata": {},
   "outputs": [
    {
     "name": "stdout",
     "output_type": "stream",
     "text": [
      "\n",
      "Model Comparison:\n",
      "         Metric      DES-MI  META-DESKNN-MI\n",
      "0           AUC    0.868290          0.9694\n",
      "1   Error I (%)    0.179372         50.0000\n",
      "2  Error II (%)  100.000000          5.4400\n"
     ]
    },
    {
     "data": {
      "image/png": "[encoded data removed]",
      "text/plain": [
       "<Figure size 1000x600 with 1 Axes>"
      ]
     },
     "metadata": {},
     "output_type": "display_data"
    }
   ],
   "source": [
    "# Replace these values with your actual META-DESKNN-MI results\n",
    "# These are just placeholders\n",
    "auc_meta_desknn = 0.9694  \n",
    "error_I_meta_desknn = 50.0\n",
    "error_II_meta_desknn = 5.44\n",
    "\n",
    "# Create a comparison table\n",
    "results_df = pd.DataFrame({\n",
    "    'Metric': ['AUC', 'Error I (%)', 'Error II (%)'],\n",
    "    'DES-MI': [auc_desmi, error_I_desmi, error_II_desmi],\n",
    "    'META-DESKNN-MI': [auc_meta_desknn, error_I_meta_desknn, error_II_meta_desknn]\n",
    "})\n",
    "\n",
    "# Display the results\n",
    "print(\"\\nModel Comparison:\")\n",
    "print(results_df)\n",
    "\n",
    "# Create a bar chart for comparison\n",
    "plt.figure(figsize=(10, 6))\n",
    "x = np.arange(2)\n",
    "width = 0.35\n",
    "\n",
    "plt.bar(x - width/2, [error_I_desmi, error_II_desmi], width, label='DES-MI')\n",
    "plt.bar(x + width/2, [error_I_meta_desknn, error_II_meta_desknn], width, label='META-DESKNN-MI')\n",
    "\n",
    "plt.xticks(x, ['Error I (%)', 'Error II (%)'])\n",
    "plt.ylabel('Error Rate (%)')\n",
    "plt.title('Error Rate Comparison')\n",
    "plt.legend()\n",
    "plt.show()"
   ]
  },
  {
   "cell_type": "code",
   "execution_count": 16,
   "id": "88ddeedf-70cc-49fb-88e9-7c5eb3fd69d2",
   "metadata": {},
   "outputs": [],
   "source": [
    "def calculate_additional_metrics(y_true, y_pred):\n",
    "    \"\"\"\n",
    "    Calculate PD, PF, and Balance metrics\n",
    "    \n",
    "    Parameters:\n",
    "    -----------\n",
    "    y_true : array-like\n",
    "        True labels\n",
    "    y_pred : array-like\n",
    "        Predicted labels\n",
    "        \n",
    "    Returns:\n",
    "    --------\n",
    "    pd_metric : float\n",
    "        Probability of Detection in percentage\n",
    "    pf_metric : float\n",
    "        Probability of False Alarms in percentage\n",
    "    bal_metric : float\n",
    "        Balance metric in percentage\n",
    "    \"\"\"\n",
    "    # Get confusion matrix elements\n",
    "    tn, fp, fn, tp = confusion_matrix(y_true, y_pred).ravel()\n",
    "    \n",
    "    # Calculate PD (same as Recall or True Positive Rate)\n",
    "    pd_metric = (tp / (tp + fn)) * 100 if (tp + fn) > 0 else 0\n",
    "    \n",
    "    # Calculate PF (False Positive Rate)\n",
    "    pf_metric = (fp / (tn + fp)) * 100 if (tn + fp) > 0 else 0\n",
    "    \n",
    "    # Calculate Balance using the formula from the image\n",
    "    bal_metric = 100 - (math.sqrt((0 - pf_metric)**2 + (100 - pd_metric)**2) / math.sqrt(2))\n",
    "    \n",
    "    return pd_metric, pf_metric, bal_metric"
   ]
  },
  {
   "cell_type": "code",
   "execution_count": 18,
   "id": "8b446481-f091-4657-8610-364d818ff38f",
   "metadata": {},
   "outputs": [
    {
     "name": "stdout",
     "output_type": "stream",
     "text": [
      "\n",
      "Extended Model Comparison:\n",
      "      Metric  DES-MI + SMOTE\n",
      "         AUC        0.740102\n",
      " Error I (%)        0.627803\n",
      "Error II (%)       85.714286\n",
      "      PD (%)       14.285714\n",
      "      PF (%)        0.627803\n",
      " Balance (%)       39.389222\n"
     ]
    }
   ],
   "source": [
    "import math\n",
    "\n",
    "# For DES-MI\n",
    "pd_desmi, pf_desmi, bal_desmi = calculate_additional_metrics(y_test, y_pred_original)\n",
    "\n",
    "# For DES-MI + SMOTE\n",
    "pd_desmi_smote, pf_desmi_smote, bal_desmi_smote = calculate_additional_metrics(y_test, y_pred_smote)\n",
    "\n",
    "# For META-DESKNN-MI - assuming y_pred_meta_desknn contains your predictions\n",
    "# If you don't have these predictions stored, you'll need to run your model again\n",
    "# or use placeholder values based on the error rates you reported\n",
    "meta_cm = np.array([[1097, 18], [6, 1]])  # This is a placeholder based on your reported Error I and II\n",
    "tn, fp, fn, tp = meta_cm.ravel()\n",
    "pd_meta = (tp / (tp + fn)) * 100\n",
    "pf_meta = (fp / (tn + fp)) * 100\n",
    "bal_meta = 100 - (math.sqrt((0 - pf_meta)**2 + (100 - pd_meta)**2) / math.sqrt(2))\n",
    "\n",
    "# Create results dataframe\n",
    "results_extended_df = pd.DataFrame({\n",
    "    'Metric': ['AUC', 'Error I (%)', 'Error II (%)', 'PD (%)', 'PF (%)', 'Balance (%)'],\n",
    "    'DES-MI + SMOTE': [auc_smote, error_I_smote, error_II_smote, pd_desmi_smote, pf_desmi_smote, bal_desmi_smote],\n",
    "})\n",
    "\n",
    "# Display the results\n",
    "print(\"\\nExtended Model Comparison:\")\n",
    "print(results_extended_df.to_string(index=False))"
   ]
  },
  {
   "cell_type": "code",
   "execution_count": null,
   "id": "6283837b-cf2c-4ccd-851f-7f3615de2baa",
   "metadata": {},
   "outputs": [],
   "source": []
  },
  {
   "cell_type": "code",
   "execution_count": null,
   "id": "93120bd4-3077-4bfb-a9fa-a002559a5dad",
   "metadata": {},
   "outputs": [],
   "source": []
  },
  {
   "cell_type": "code",
   "execution_count": null,
   "id": "c3dd365c-ce3f-46aa-b73b-a74cd9992a14",
   "metadata": {},
   "outputs": [],
   "source": []
  },
  {
   "cell_type": "code",
   "execution_count": null,
   "id": "9ba9a798-5802-4540-b315-e99511b18b69",
   "metadata": {},
   "outputs": [],
   "source": []
  },
  {
   "cell_type": "code",
   "execution_count": null,
   "id": "7f6d995f-0d9c-41da-8bad-4705b6805c67",
   "metadata": {},
   "outputs": [],
   "source": []
  },
  {
   "cell_type": "code",
   "execution_count": null,
   "id": "ddaeb2fe-d585-4cab-a41a-d45567127e89",
   "metadata": {},
   "outputs": [],
   "source": []
  },
  {
   "cell_type": "code",
   "execution_count": null,
   "id": "25b5773e-ff2c-47a6-89d9-28c481ae1735",
   "metadata": {},
   "outputs": [],
   "source": []
  }
 ],
 "metadata": {
  "kernelspec": {
   "display_name": "Python 3 (ipykernel)",
   "language": "python",
   "name": "python3"
  },
  "language_info": {
   "codemirror_mode": {
    "name": "ipython",
    "version": 3
   },
   "file_extension": ".py",
   "mimetype": "text/x-python",
   "name": "python",
   "nbconvert_exporter": "python",
   "pygments_lexer": "ipython3",
   "version": "3.10.11"
  }
 },
 "nbformat": 4,
 "nbformat_minor": 5
}
